{
  "nbformat": 4,
  "nbformat_minor": 0,
  "metadata": {
    "colab": {
      "name": "Untitled35.ipynb",
      "provenance": []
    },
    "kernelspec": {
      "name": "python3",
      "display_name": "Python 3"
    },
    "language_info": {
      "name": "python"
    }
  },
  "cells": [
    {
      "cell_type": "markdown",
      "source": [
        "Konversi Struktur Data\n",
        "\n"
      ],
      "metadata": {
        "id": "hoN8FA9luzC-"
      }
    },
    {
      "cell_type": "markdown",
      "source": [
        "Fungsi untuk mengubah/konversi struktur data:\n",
        "a. List(): untuk mengubah menjadi list\n",
        "b. tuple(): untuk mengubah menjadi tuple\n",
        "c. set(): untuk mengubah menjadi set\n",
        "d. dict(): untuk mengubah menajdi dictionary"
      ],
      "metadata": {
        "id": "ct12k0oovJeK"
      }
    },
    {
      "cell_type": "markdown",
      "source": [
        "Mengkonversi tipe data list"
      ],
      "metadata": {
        "id": "mJ2ghwTyvWDg"
      }
    },
    {
      "cell_type": "code",
      "source": [
        "#membuat 2 list\n",
        "L1 = [1, 2, 3, 4]\n",
        "L2 = [5, 6, 7, 8]"
      ],
      "metadata": {
        "id": "cOcQ5wQtvZNt"
      },
      "execution_count": 2,
      "outputs": []
    },
    {
      "cell_type": "code",
      "source": [
        "#Mengkonversi struktur data list\n",
        "k_tuple = tuple(L1)\n",
        "k_set = set(L2)\n",
        "k_dict = dict(zip(L1,L2))\n",
        "#Melihat data yang telah dikonversi\n",
        "print(k_tuple)\n",
        "print(k_set)\n",
        "print(k_dict)"
      ],
      "metadata": {
        "colab": {
          "base_uri": "https://localhost:8080/"
        },
        "id": "p6o1FMZDvjXK",
        "outputId": "86dfb570-8a0a-4884-8c22-2fca35734b9b"
      },
      "execution_count": 3,
      "outputs": [
        {
          "output_type": "stream",
          "name": "stdout",
          "text": [
            "(1, 2, 3, 4)\n",
            "{8, 5, 6, 7}\n",
            "{1: 5, 2: 6, 3: 7, 4: 8}\n"
          ]
        }
      ]
    },
    {
      "cell_type": "markdown",
      "source": [
        "Mengkonversi tipe data tuple:"
      ],
      "metadata": {
        "id": "iXZyXlorwGq9"
      }
    },
    {
      "cell_type": "code",
      "source": [
        "#Membuat dua tuple\n",
        "T1 = (1, 2, 3, 4)\n",
        "T2 = (5, 6, 7, 8)"
      ],
      "metadata": {
        "id": "Z8-fD_pmwKKw"
      },
      "execution_count": 4,
      "outputs": []
    },
    {
      "cell_type": "code",
      "source": [
        "#Mengkonversi struktur data tuple\n",
        "k_list = list(T1)\n",
        "k_set = set(T2)\n",
        "k_dict = dict(zip(T1, T2))\n",
        "#Melihat data yang telat dikonversi\n",
        "print(k_list)\n",
        "print(k_set)\n",
        "print(k_dict)"
      ],
      "metadata": {
        "colab": {
          "base_uri": "https://localhost:8080/"
        },
        "id": "8AIbeS1TwWIU",
        "outputId": "6586364c-6b0b-4796-acec-799ee7580ecd"
      },
      "execution_count": 6,
      "outputs": [
        {
          "output_type": "stream",
          "name": "stdout",
          "text": [
            "[1, 2, 3, 4]\n",
            "{8, 5, 6, 7}\n",
            "{1: 5, 2: 6, 3: 7, 4: 8}\n"
          ]
        }
      ]
    },
    {
      "cell_type": "markdown",
      "source": [
        "Mengkonversi tipe data set"
      ],
      "metadata": {
        "id": "jVjTwk3Dw3gh"
      }
    },
    {
      "cell_type": "code",
      "source": [
        "#Membuat dua set\n",
        "S1 = {1, 2, 3, 4}\n",
        "S2 = {5, 6, 7, 8}"
      ],
      "metadata": {
        "id": "O_liRje7w6L4"
      },
      "execution_count": 7,
      "outputs": []
    },
    {
      "cell_type": "code",
      "source": [
        "#Mengkonversi struktur data set\n",
        "k_list = list(S1)\n",
        "k_tuple = tuple(S2)\n",
        "k_dict = dict(zip(S1, S2))\n",
        "#Melihat data yang telah di konversi\n",
        "print(k_list)\n",
        "print(k_tuple)\n",
        "print(k_dict)"
      ],
      "metadata": {
        "colab": {
          "base_uri": "https://localhost:8080/"
        },
        "id": "tK4KD4E1wh3X",
        "outputId": "16fbf352-996e-4dc8-ed1e-27e082178306"
      },
      "execution_count": 9,
      "outputs": [
        {
          "output_type": "stream",
          "name": "stdout",
          "text": [
            "[1, 2, 3, 4]\n",
            "(8, 5, 6, 7)\n",
            "{1: 8, 2: 5, 3: 6, 4: 7}\n"
          ]
        }
      ]
    },
    {
      "cell_type": "markdown",
      "source": [
        "Mengkonversi tipe data list:"
      ],
      "metadata": {
        "id": "7qTPT0lOx25L"
      }
    },
    {
      "cell_type": "code",
      "source": [
        "#Membuat dictionary\n",
        "D = {\n",
        "    \"nama\": \"Andi\",\n",
        "    \"alamat\": \"Yogyakarta\",\n",
        "    \"umur\": 20\n",
        "}"
      ],
      "metadata": {
        "id": "Hel3VzCTx7CZ"
      },
      "execution_count": 10,
      "outputs": []
    },
    {
      "cell_type": "code",
      "source": [
        "#Mengkonversi struktur data dictionary dari key dan value nya\n",
        "k_list = list(D.keys())\n",
        "k_tuple = tuple(D.values())\n",
        "k_set = set(D.keys())\n",
        "#Melihat data yang telah dikomversi\n",
        "print(k_list)\n",
        "print(k_tuple)\n",
        "print(k_set)"
      ],
      "metadata": {
        "colab": {
          "base_uri": "https://localhost:8080/"
        },
        "id": "X1cffXSRyR0d",
        "outputId": "4f945fe8-f496-4416-ffa0-1e3832e799ad"
      },
      "execution_count": 11,
      "outputs": [
        {
          "output_type": "stream",
          "name": "stdout",
          "text": [
            "['nama', 'alamat', 'umur']\n",
            "('Andi', 'Yogyakarta', 20)\n",
            "{'umur', 'alamat', 'nama'}\n"
          ]
        }
      ]
    },
    {
      "cell_type": "markdown",
      "source": [
        "Latihan"
      ],
      "metadata": {
        "id": "ZaeUmXfay11v"
      }
    },
    {
      "cell_type": "code",
      "source": [
        "#Lakukan konversi struktur data yang kalian buat pada notebook-notebook sebelumnya menjadi list. tuple, set, dan dictionary(masing-masing satu)\n",
        "x = [1, 2, 3]\n",
        "y = [4, 5, 6]"
      ],
      "metadata": {
        "id": "MeGxUMngy0de"
      },
      "execution_count": 16,
      "outputs": []
    },
    {
      "cell_type": "code",
      "source": [
        "#Mengkonversi struktur data list\n",
        "k_tuple = tuple(x)\n",
        "k_set = set(y)\n",
        "k_dict = dict(zip(x, y))\n",
        "#Melihat data yang telah dikonversi\n",
        "print(k_tuple)\n",
        "print(k_set)\n",
        "print(k_dict)"
      ],
      "metadata": {
        "colab": {
          "base_uri": "https://localhost:8080/"
        },
        "id": "14mH7dyS2AIB",
        "outputId": "6b63a0a4-afc0-485a-a9f2-9c17d6c5ca8c"
      },
      "execution_count": 17,
      "outputs": [
        {
          "output_type": "stream",
          "name": "stdout",
          "text": [
            "(1, 2, 3)\n",
            "{4, 5, 6}\n",
            "{1: 4, 2: 5, 3: 6}\n"
          ]
        }
      ]
    },
    {
      "cell_type": "code",
      "source": [
        "#membuat 2 tuple\n",
        "x = (1, 2, 3)\n",
        "y = (4, 5, 6)"
      ],
      "metadata": {
        "id": "P4Jcg04u2xjg"
      },
      "execution_count": 18,
      "outputs": []
    },
    {
      "cell_type": "code",
      "source": [
        "#Mengkonversi struktur data list\n",
        "k_tuple = tuple(x)\n",
        "k_set = set(y)\n",
        "k_dict = dict(zip(x, y))\n",
        "#Melihat data yang telah dikonversi\n",
        "print(k_tuple)\n",
        "print(k_set)\n",
        "print(k_dict)"
      ],
      "metadata": {
        "colab": {
          "base_uri": "https://localhost:8080/"
        },
        "id": "S6664O9T2-5-",
        "outputId": "c5b272a3-b0b6-47fd-c9ed-b7a84f51e546"
      },
      "execution_count": 19,
      "outputs": [
        {
          "output_type": "stream",
          "name": "stdout",
          "text": [
            "(1, 2, 3)\n",
            "{4, 5, 6}\n",
            "{1: 4, 2: 5, 3: 6}\n"
          ]
        }
      ]
    },
    {
      "cell_type": "code",
      "source": [
        "#membuat 2 data set\n",
        "x = (1, 2, 3)\n",
        "y = (4, 5, 6)"
      ],
      "metadata": {
        "id": "LnEfMbo13CDE"
      },
      "execution_count": 20,
      "outputs": []
    },
    {
      "cell_type": "code",
      "source": [
        "#Mengkonversi struktur data list\n",
        "k_tuple = tuple(x)\n",
        "k_set = set(y)\n",
        "k_dict = dict(zip(x, y))\n",
        "#Melihat data yang telah dikonversi\n",
        "print(k_tuple)\n",
        "print(k_set)\n",
        "print(k_dict)"
      ],
      "metadata": {
        "colab": {
          "base_uri": "https://localhost:8080/"
        },
        "id": "9JsEW2h-3Qep",
        "outputId": "d6f8d4d0-9847-4df5-f300-d667481e37a5"
      },
      "execution_count": 21,
      "outputs": [
        {
          "output_type": "stream",
          "name": "stdout",
          "text": [
            "(1, 2, 3)\n",
            "{4, 5, 6}\n",
            "{1: 4, 2: 5, 3: 6}\n"
          ]
        }
      ]
    },
    {
      "cell_type": "code",
      "source": [
        "#membuat dictionary\n",
        "X = {\n",
        "    \"nama\": \"caca\",\n",
        "    \"alamat\": \"Yogyakarta\",\n",
        "    \"umur\": 18\n",
        "}"
      ],
      "metadata": {
        "id": "jCXIkbZy3Ulx"
      },
      "execution_count": 22,
      "outputs": []
    },
    {
      "cell_type": "code",
      "source": [
        "#Mengkonversi struktur data dictionary dari key dan value nya\n",
        "k_list = list(X.keys())\n",
        "k_tuple = tuple(X.values())\n",
        "k_set = set(X.keys())\n",
        "#Melihat data yang telah dikomversi\n",
        "print(k_list)\n",
        "print(k_tuple)\n",
        "print(k_set)"
      ],
      "metadata": {
        "colab": {
          "base_uri": "https://localhost:8080/"
        },
        "id": "xgQlGWb33lwv",
        "outputId": "94d09787-2b93-49ab-c253-1b2a95474988"
      },
      "execution_count": 24,
      "outputs": [
        {
          "output_type": "stream",
          "name": "stdout",
          "text": [
            "['nama', 'alamat', 'umur']\n",
            "('caca', 'Yogyakarta', 18)\n",
            "{'umur', 'alamat', 'nama'}\n"
          ]
        }
      ]
    }
  ]
}