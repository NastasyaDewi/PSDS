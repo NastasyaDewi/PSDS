{
  "nbformat": 4,
  "nbformat_minor": 0,
  "metadata": {
    "colab": {
      "name": "Untitled38.ipynb",
      "provenance": []
    },
    "kernelspec": {
      "name": "python3",
      "display_name": "Python 3"
    },
    "language_info": {
      "name": "python"
    }
  },
  "cells": [
    {
      "cell_type": "markdown",
      "source": [
        "String"
      ],
      "metadata": {
        "id": "z-QPCBkv4nXV"
      }
    },
    {
      "cell_type": "markdown",
      "source": [
        "string di deklarasikan dengan di apit oleh tanda petik"
      ],
      "metadata": {
        "id": "8gJAjgaW4oz6"
      }
    },
    {
      "cell_type": "code",
      "source": [
        "#menampilkan string dengan fungsi print()\n",
        "print(\"Hello world!\")"
      ],
      "metadata": {
        "colab": {
          "base_uri": "https://localhost:8080/"
        },
        "id": "0iO-2seP4uuw",
        "outputId": "04221cb4-f3c8-408c-f75b-cb40e1a7bb0d"
      },
      "execution_count": 1,
      "outputs": [
        {
          "output_type": "stream",
          "name": "stdout",
          "text": [
            "Hello world!\n"
          ]
        }
      ]
    },
    {
      "cell_type": "code",
      "source": [
        "#membuat variabel bertipe string\n",
        "A = \"Belajar struktur data string\"\n",
        "print(A)"
      ],
      "metadata": {
        "colab": {
          "base_uri": "https://localhost:8080/"
        },
        "id": "P7NeJGWG5KMW",
        "outputId": "34345b9b-9307-4eea-be88-db26c87638e0"
      },
      "execution_count": 2,
      "outputs": [
        {
          "output_type": "stream",
          "name": "stdout",
          "text": [
            "Belajar struktur data string\n"
          ]
        }
      ]
    },
    {
      "cell_type": "code",
      "source": [
        "#membuat variabel string multi-line dengan 3 tanda petik\n",
        "B = \"\"\"Belajar phyton\n",
        "Pejuang data 4.0\n",
        "PSDS\n",
        "String\"\"\"\n",
        "print(B)"
      ],
      "metadata": {
        "colab": {
          "base_uri": "https://localhost:8080/"
        },
        "id": "96mBHe3K5U8q",
        "outputId": "59cf588c-4009-46e9-ac0f-8cc14d80a126"
      },
      "execution_count": 3,
      "outputs": [
        {
          "output_type": "stream",
          "name": "stdout",
          "text": [
            "Belajar phyton\n",
            "Pejuang data 4.0\n",
            "PSDS\n",
            "String\n"
          ]
        }
      ]
    },
    {
      "cell_type": "code",
      "source": [
        "#Menampilkan karakter tertentu dalam string\n",
        "print(A[2])"
      ],
      "metadata": {
        "colab": {
          "base_uri": "https://localhost:8080/"
        },
        "id": "mRksjrNN52wK",
        "outputId": "9cff028e-c4cc-461f-c9dc-b4360a56426d"
      },
      "execution_count": 4,
      "outputs": [
        {
          "output_type": "stream",
          "name": "stdout",
          "text": [
            "l\n"
          ]
        }
      ]
    },
    {
      "cell_type": "code",
      "source": [
        "#Slicing pada string\n",
        "A = \"belajar struktur data string\"\n",
        "print(A[:5])\n",
        "print(A[3:])\n",
        "print(A[-5:])\n",
        "print(A[4:9])"
      ],
      "metadata": {
        "colab": {
          "base_uri": "https://localhost:8080/"
        },
        "id": "yqXy9qIO5-E1",
        "outputId": "b0e872e3-70a0-4fc4-cf1e-5d82b101fe52"
      },
      "execution_count": 5,
      "outputs": [
        {
          "output_type": "stream",
          "name": "stdout",
          "text": [
            "belaj\n",
            "ajar struktur data string\n",
            "tring\n",
            "jar s\n"
          ]
        }
      ]
    },
    {
      "cell_type": "markdown",
      "source": [
        "Latihan 1"
      ],
      "metadata": {
        "id": "kW7qWgS76mt1"
      }
    },
    {
      "cell_type": "code",
      "source": [
        "#Buatlah variabel string lalu lakukan slicing dengan menggunakan karakter pertama dan terakhir\n",
        "X = \"Nastasya\"\n",
        "print(X[:7])\n",
        "print(X[1:])"
      ],
      "metadata": {
        "colab": {
          "base_uri": "https://localhost:8080/"
        },
        "id": "TjqCEJSe6pFL",
        "outputId": "c6975bf3-49aa-4f7a-b9f8-bde2b9b08c73"
      },
      "execution_count": 15,
      "outputs": [
        {
          "output_type": "stream",
          "name": "stdout",
          "text": [
            "Nastasy\n",
            "astasya\n"
          ]
        }
      ]
    },
    {
      "cell_type": "markdown",
      "source": [
        "Memodifikasi string"
      ],
      "metadata": {
        "id": "JWlHRyiu7a9U"
      }
    },
    {
      "cell_type": "code",
      "source": [
        "#upper()\n",
        "A.upper()"
      ],
      "metadata": {
        "colab": {
          "base_uri": "https://localhost:8080/",
          "height": 35
        },
        "id": "CLR06S5f7dKa",
        "outputId": "5356e20f-cc4b-4f19-888e-21adafc33155"
      },
      "execution_count": 7,
      "outputs": [
        {
          "output_type": "execute_result",
          "data": {
            "text/plain": [
              "'BELAJAR STRUKTUR DATA STRING'"
            ],
            "application/vnd.google.colaboratory.intrinsic+json": {
              "type": "string"
            }
          },
          "metadata": {},
          "execution_count": 7
        }
      ]
    },
    {
      "cell_type": "code",
      "source": [
        "#lower()\n",
        "A.lower()"
      ],
      "metadata": {
        "colab": {
          "base_uri": "https://localhost:8080/",
          "height": 35
        },
        "id": "urJMASkJ7leY",
        "outputId": "97b50beb-5fe0-4926-806a-c802e49ff530"
      },
      "execution_count": 8,
      "outputs": [
        {
          "output_type": "execute_result",
          "data": {
            "text/plain": [
              "'belajar struktur data string'"
            ],
            "application/vnd.google.colaboratory.intrinsic+json": {
              "type": "string"
            }
          },
          "metadata": {},
          "execution_count": 8
        }
      ]
    },
    {
      "cell_type": "code",
      "source": [
        "#strip()\n",
        "A.strip()"
      ],
      "metadata": {
        "colab": {
          "base_uri": "https://localhost:8080/",
          "height": 35
        },
        "id": "8zIB-f5B7qlS",
        "outputId": "3f553487-54f1-4591-c93a-ce31c3ecb69b"
      },
      "execution_count": 9,
      "outputs": [
        {
          "output_type": "execute_result",
          "data": {
            "text/plain": [
              "'belajar struktur data string'"
            ],
            "application/vnd.google.colaboratory.intrinsic+json": {
              "type": "string"
            }
          },
          "metadata": {},
          "execution_count": 9
        }
      ]
    },
    {
      "cell_type": "code",
      "source": [
        "#replace()\n",
        "A.replace('1', 'd')"
      ],
      "metadata": {
        "colab": {
          "base_uri": "https://localhost:8080/",
          "height": 35
        },
        "id": "B4FYsUQg7yC-",
        "outputId": "74a34f74-046e-48a9-fc64-3134a72d1613"
      },
      "execution_count": 10,
      "outputs": [
        {
          "output_type": "execute_result",
          "data": {
            "text/plain": [
              "'belajar struktur data string'"
            ],
            "application/vnd.google.colaboratory.intrinsic+json": {
              "type": "string"
            }
          },
          "metadata": {},
          "execution_count": 10
        }
      ]
    },
    {
      "cell_type": "code",
      "source": [
        "#split()\n",
        "A.split()"
      ],
      "metadata": {
        "colab": {
          "base_uri": "https://localhost:8080/"
        },
        "id": "qoDT8qvH77hI",
        "outputId": "df2aa104-e059-404a-8ef8-ffb47922c5ef"
      },
      "execution_count": 11,
      "outputs": [
        {
          "output_type": "execute_result",
          "data": {
            "text/plain": [
              "['belajar', 'struktur', 'data', 'string']"
            ]
          },
          "metadata": {},
          "execution_count": 11
        }
      ]
    },
    {
      "cell_type": "markdown",
      "source": [
        "Menggabungkan string"
      ],
      "metadata": {
        "id": "HfphUMoL8BMb"
      }
    },
    {
      "cell_type": "code",
      "source": [
        "A = \"belajar struktur data string\"\n",
        "B = \"Pejuang data 4.0\"\n",
        "A + \" \" + B"
      ],
      "metadata": {
        "colab": {
          "base_uri": "https://localhost:8080/",
          "height": 35
        },
        "id": "okWBHUgm8DMK",
        "outputId": "512c1d08-3054-4d78-bc76-263a84277f6b"
      },
      "execution_count": 12,
      "outputs": [
        {
          "output_type": "execute_result",
          "data": {
            "text/plain": [
              "'belajar struktur data string Pejuang data 4.0'"
            ],
            "application/vnd.google.colaboratory.intrinsic+json": {
              "type": "string"
            }
          },
          "metadata": {},
          "execution_count": 12
        }
      ]
    },
    {
      "cell_type": "markdown",
      "source": [
        "Latihan 2"
      ],
      "metadata": {
        "id": "5ZKzCLUO8V0Y"
      }
    },
    {
      "cell_type": "code",
      "source": [
        "#Ganti semua huruf vokal menjadi \"i\" pada string yang telah kalian buat pada latihan 1\n",
        "X.replace('a', 'i')"
      ],
      "metadata": {
        "colab": {
          "base_uri": "https://localhost:8080/",
          "height": 35
        },
        "id": "gTOYIS378XG3",
        "outputId": "b70e4b06-2cc8-4d29-8fec-26fbe4ca43e4"
      },
      "execution_count": 16,
      "outputs": [
        {
          "output_type": "execute_result",
          "data": {
            "text/plain": [
              "'Nistisyi'"
            ],
            "application/vnd.google.colaboratory.intrinsic+json": {
              "type": "string"
            }
          },
          "metadata": {},
          "execution_count": 16
        }
      ]
    }
  ]
}