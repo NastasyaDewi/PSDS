{
  "nbformat": 4,
  "nbformat_minor": 0,
  "metadata": {
    "colab": {
      "name": "Untitled34.ipynb",
      "provenance": []
    },
    "kernelspec": {
      "name": "python3",
      "display_name": "Python 3"
    },
    "language_info": {
      "name": "python"
    }
  },
  "cells": [
    {
      "cell_type": "markdown",
      "source": [
        "Dictionary"
      ],
      "metadata": {
        "id": "3ghEVnlglSUo"
      }
    },
    {
      "cell_type": "markdown",
      "source": [
        "Dictionary pada phyton adalah kumpulan pasangan kunci-nilai(pair of key value) yang bersifat tidak berurut. Dictionary dapat digunakan untuk menyimpan data kecil hingga besar. Untuk megakses datanya, kita harus mengetahui kuncinya(key). Pada phyton, dictionary didefinisikan dengan kurawal dan tambahan definisi berikut:\n",
        "* setiap elemen pair key-value dipisahkan dengan koma(,)\n",
        "* key dan value dipisahkan dengan titik dua (:)\n",
        "* key dan value dapat berupa tipe variabel/obyek apapun\n"
      ],
      "metadata": {
        "id": "hLiok4mMle7E"
      }
    },
    {
      "cell_type": "code",
      "source": [
        "L1 = [1, 'dua', 'key', (2+3j), (2+3j)]"
      ],
      "metadata": {
        "id": "rQmfv8svmghv"
      },
      "execution_count": 2,
      "outputs": []
    },
    {
      "cell_type": "code",
      "source": [
        "#Contoh dictionary\n",
        "D1 = {1:'value','key':2}\n",
        "print(D1)"
      ],
      "metadata": {
        "colab": {
          "base_uri": "https://localhost:8080/"
        },
        "id": "ApSlaXebnrDc",
        "outputId": "a2753f7f-5573-433b-dc06-b7a21aa2a7b2"
      },
      "execution_count": 3,
      "outputs": [
        {
          "output_type": "stream",
          "name": "stdout",
          "text": [
            "{1: 'value', 'key': 2}\n"
          ]
        }
      ]
    },
    {
      "cell_type": "markdown",
      "source": [
        "Latihan 1"
      ],
      "metadata": {
        "id": "y_7CsdEan_DB"
      }
    },
    {
      "cell_type": "code",
      "source": [
        "#Buatlah struktur data dictionary kalian sendiri\n",
        "x = {5:'numerik','numerik':3}\n",
        "print(x)"
      ],
      "metadata": {
        "colab": {
          "base_uri": "https://localhost:8080/"
        },
        "id": "avPAJqDroArO",
        "outputId": "a14dcac1-8e84-4ca2-975d-6e739fb6d9ee"
      },
      "execution_count": 14,
      "outputs": [
        {
          "output_type": "stream",
          "name": "stdout",
          "text": [
            "{5: 'numerik', 'numerik': 3}\n"
          ]
        }
      ]
    },
    {
      "cell_type": "code",
      "source": [
        "L1[0]"
      ],
      "metadata": {
        "colab": {
          "base_uri": "https://localhost:8080/"
        },
        "id": "vIgPkJbZoe3E",
        "outputId": "1c15731d-d7a9-49f7-a770-e593471027bb"
      },
      "execution_count": 5,
      "outputs": [
        {
          "output_type": "execute_result",
          "data": {
            "text/plain": [
              "1"
            ]
          },
          "metadata": {},
          "execution_count": 5
        }
      ]
    },
    {
      "cell_type": "code",
      "source": [
        "D1['key']"
      ],
      "metadata": {
        "colab": {
          "base_uri": "https://localhost:8080/"
        },
        "id": "qH-d63UAohoc",
        "outputId": "a507c846-81df-4a6e-8336-1414e05d2520"
      },
      "execution_count": 6,
      "outputs": [
        {
          "output_type": "execute_result",
          "data": {
            "text/plain": [
              "2"
            ]
          },
          "metadata": {},
          "execution_count": 6
        }
      ]
    },
    {
      "cell_type": "code",
      "source": [
        "#memanggil elemen berdasarkan key\n",
        "print(\"D1['key'] = \", D1['key']);"
      ],
      "metadata": {
        "colab": {
          "base_uri": "https://localhost:8080/"
        },
        "id": "BsDtChwVomew",
        "outputId": "1afe8217-dbb8-4e01-88bb-03de725e5258"
      },
      "execution_count": 7,
      "outputs": [
        {
          "output_type": "stream",
          "name": "stdout",
          "text": [
            "D1['key'] =  2\n"
          ]
        }
      ]
    },
    {
      "cell_type": "markdown",
      "source": [
        "Dictionary bukan termasuk dalam implementasi urutan(sequences), sehingga tidak bisa dipanggil dengan urutan indeks. Misalnya dalam contoh berikut dicoba dengan indeks 2, tetapi menghasilkan error(keyError) karena tidak ada kunci(key) 2:"
      ],
      "metadata": {
        "id": "JF7iwEIQpFWH"
      }
    },
    {
      "cell_type": "code",
      "source": [
        "#nyobain error\n",
        "print(\"D1[2] = \", D1[2]);"
      ],
      "metadata": {
        "colab": {
          "base_uri": "https://localhost:8080/",
          "height": 183
        },
        "id": "znBBbHgkpeaY",
        "outputId": "034b5a53-b4f5-46f7-9007-8f1bd105d061"
      },
      "execution_count": 8,
      "outputs": [
        {
          "output_type": "error",
          "ename": "KeyError",
          "evalue": "ignored",
          "traceback": [
            "\u001b[0;31m---------------------------------------------------------------------------\u001b[0m",
            "\u001b[0;31mKeyError\u001b[0m                                  Traceback (most recent call last)",
            "\u001b[0;32m<ipython-input-8-9f42494a7f21>\u001b[0m in \u001b[0;36m<module>\u001b[0;34m()\u001b[0m\n\u001b[1;32m      1\u001b[0m \u001b[0;31m#nyobain error\u001b[0m\u001b[0;34m\u001b[0m\u001b[0;34m\u001b[0m\u001b[0;34m\u001b[0m\u001b[0m\n\u001b[0;32m----> 2\u001b[0;31m \u001b[0mprint\u001b[0m\u001b[0;34m(\u001b[0m\u001b[0;34m\"D1[2] = \"\u001b[0m\u001b[0;34m,\u001b[0m \u001b[0mD1\u001b[0m\u001b[0;34m[\u001b[0m\u001b[0;36m2\u001b[0m\u001b[0;34m]\u001b[0m\u001b[0;34m)\u001b[0m\u001b[0;34m;\u001b[0m\u001b[0;34m\u001b[0m\u001b[0;34m\u001b[0m\u001b[0m\n\u001b[0m",
            "\u001b[0;31mKeyError\u001b[0m: 2"
          ]
        }
      ]
    },
    {
      "cell_type": "code",
      "source": [
        "Latihan 2"
      ],
      "metadata": {
        "id": "Ou252CS8prmF"
      },
      "execution_count": null,
      "outputs": []
    },
    {
      "cell_type": "code",
      "source": [
        "#Panggil salah satu key dan value pada dictionary yang kalian buat\n",
        "x['numerik']"
      ],
      "metadata": {
        "colab": {
          "base_uri": "https://localhost:8080/"
        },
        "id": "vNqs5L4Vpx9r",
        "outputId": "c5ddba15-aa78-422e-f864-d709773de830"
      },
      "execution_count": 17,
      "outputs": [
        {
          "output_type": "execute_result",
          "data": {
            "text/plain": [
              "3"
            ]
          },
          "metadata": {},
          "execution_count": 17
        }
      ]
    }
  ]
}